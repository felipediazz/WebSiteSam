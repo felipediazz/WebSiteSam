{
 "cells": [
  {
   "cell_type": "code",
   "execution_count": 1,
   "metadata": {
    "tags": []
   },
   "outputs": [],
   "source": [
    "import torch\n",
    "from segment_anything import sam_model_registry, SamPredictor, SamAutomaticMaskGenerator\n",
    "import cv2\n",
    "import os \n",
    "#from django.conf import settings\n",
    "\n",
    "MODEL_TYPE = \"vit_h\""
   ]
  },
  {
   "cell_type": "code",
   "execution_count": 2,
   "metadata": {
    "tags": []
   },
   "outputs": [],
   "source": [
    "import os\n",
    "\n",
    "import cv2  # type: ignore\n",
    "import matplotlib.pyplot as plt\n",
    "import numpy as np\n",
    "\n",
    "from segment_anything import SamAutomaticMaskGenerator, sam_model_registry\n",
    "\n",
    "import argparse\n",
    "import json\n",
    "import os\n",
    "from typing import Any, Dict, List\n",
    "import supervision as sv"
   ]
  },
  {
   "cell_type": "code",
   "execution_count": 3,
   "metadata": {
    "tags": []
   },
   "outputs": [],
   "source": [
    "sam = sam_model_registry[MODEL_TYPE](checkpoint=\"sam_vit_h_4b8939.pth\")"
   ]
  },
  {
   "cell_type": "code",
   "execution_count": 4,
   "metadata": {
    "tags": []
   },
   "outputs": [],
   "source": [
    "output_mode = \"coco_rle\" #coco_rle , \n",
    "generator = SamAutomaticMaskGenerator(sam, output_mode=output_mode)\n",
    "\n",
    "#Funciona en local lab\n",
    "#url_bgr = r\"..\\..\\static\\images\\imagenes\\imagen_bgr.jpg\"\n",
    "#url_rgb = r\"..\\..\\static\\images\\imagenes\\imagen_rgb.jpg\"\n",
    "\n",
    "#Funciona desplegado\n",
    "url_bgr = \"static/images/imagenes/imagen_bgr.jpg\"\n",
    "url_rgb = \"static/images/imagenes/imagen_rgb.jpg\"\n",
    "\n",
    "image_bgr = cv2.imread(url_bgr)\n",
    "image_rgb = cv2.imread(url_rgb)"
   ]
  },
  {
   "cell_type": "code",
   "execution_count": 5,
   "metadata": {},
   "outputs": [],
   "source": [
    "masks = generator.generate(image_rgb)"
   ]
  },
  {
   "cell_type": "code",
   "execution_count": 6,
   "metadata": {},
   "outputs": [],
   "source": [
    "base = os.path.basename(\"segmentacion_json\")\n",
    "base = os.path.splitext(base)[0]\n",
    "#Local\n",
    "#save_base = os.path.join(r\"..\\..\\static\\js\\sam_js\", base)\n",
    "#Desplegado\n",
    "save_base = os.path.join(\"static/js/sam_js\", base)\n",
    "\n",
    "#Guardado en JSON\n",
    "\n",
    "save_file = save_base + \".json\"\n",
    "with open(save_file, \"w\") as f:\n",
    "    json.dump(masks, f)"
   ]
  }
 ],
 "metadata": {
  "kernelspec": {
   "display_name": "PythonDjango",
   "language": "python",
   "name": "pythondjango"
  },
  "language_info": {
   "codemirror_mode": {
    "name": "ipython",
    "version": 3
   },
   "file_extension": ".py",
   "mimetype": "text/x-python",
   "name": "python",
   "nbconvert_exporter": "python",
   "pygments_lexer": "ipython3",
   "version": "3.10.5"
  }
 },
 "nbformat": 4,
 "nbformat_minor": 4
}
