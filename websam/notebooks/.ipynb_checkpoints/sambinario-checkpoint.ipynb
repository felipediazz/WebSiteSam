{
 "cells": [
  {
   "cell_type": "code",
   "execution_count": 1,
   "metadata": {
    "tags": []
   },
   "outputs": [],
   "source": [
    "import torch\n",
    "from segment_anything import sam_model_registry, SamPredictor, SamAutomaticMaskGenerator\n",
    "import cv2\n",
    "import os \n",
    "#from django.conf import settings\n",
    "\n",
    "MODEL_TYPE = \"vit_h\""
   ]
  },
  {
   "cell_type": "code",
   "execution_count": 2,
   "metadata": {
    "tags": []
   },
   "outputs": [],
   "source": [
    "import os\n",
    "\n",
    "import cv2  # type: ignore\n",
    "import matplotlib.pyplot as plt\n",
    "import numpy as np\n",
    "\n",
    "from segment_anything import SamAutomaticMaskGenerator, sam_model_registry\n",
    "\n",
    "import argparse\n",
    "import json\n",
    "import os\n",
    "from typing import Any, Dict, List\n",
    "import supervision as sv"
   ]
  },
  {
   "cell_type": "code",
   "execution_count": 3,
   "metadata": {
    "tags": []
   },
   "outputs": [],
   "source": [
    "def write_masks_to_folder(masks: List[Dict[str, Any]], path: str) -> None:\n",
    "    header = \"id,area,bbox_x0,bbox_y0,bbox_w,bbox_h,point_input_x,point_input_y,predicted_iou,stability_score,crop_box_x0,crop_box_y0,crop_box_w,crop_box_h\"  # noqa\n",
    "    metadata = [header]\n",
    "    for i, mask_data in enumerate(masks):\n",
    "        mask = mask_data[\"segmentation\"]\n",
    "        filename = f\"{i}.png\"\n",
    "        cv2.imwrite(os.path.join(path, filename), mask * 255)\n",
    "        mask_metadata = [\n",
    "            str(i),\n",
    "            str(mask_data[\"area\"]),\n",
    "            *[str(x) for x in mask_data[\"bbox\"]],\n",
    "            *[str(x) for x in mask_data[\"point_coords\"][0]],\n",
    "            str(mask_data[\"predicted_iou\"]),\n",
    "            str(mask_data[\"stability_score\"]),\n",
    "            *[str(x) for x in mask_data[\"crop_box\"]],\n",
    "        ]\n",
    "        row = \",\".join(mask_metadata)\n",
    "        metadata.append(row)\n",
    "    metadata_path = os.path.join(path, \"metadata.csv\")\n",
    "    with open(metadata_path, \"w\") as f:\n",
    "        f.write(\"\\n\".join(metadata))\n",
    "\n",
    "    return"
   ]
  },
  {
   "cell_type": "code",
   "execution_count": 4,
   "metadata": {
    "tags": []
   },
   "outputs": [],
   "source": [
    "sam = sam_model_registry[MODEL_TYPE](checkpoint=\"sam_vit_h_4b8939.pth\")"
   ]
  },
  {
   "cell_type": "code",
   "execution_count": 7,
   "metadata": {
    "tags": []
   },
   "outputs": [],
   "source": [
    "output_mode = \"binary_mask\" #coco_rle , \n",
    "generator = SamAutomaticMaskGenerator(sam, output_mode=output_mode)\n",
    "\n",
    "# image = cv2.imread('pinguino-juanito.jpg')\n",
    "# image = cv2.cvtColor(image, cv2.COLOR_BGR2RGB)\n",
    "\n",
    "#Funciona en local lab\n",
    "#url_bgr = r\"..\\..\\static\\images\\imagenes\\imagen_bgr.jpg\"\n",
    "#url_rgb = r\"..\\..\\static\\images\\imagenes\\imagen_rgb.jpg\"\n",
    "\n",
    "#Funciona desplegado\n",
    "url_bgr = \"static/images/imagenes/imagen_bgr.jpg\"\n",
    "url_rgb = \"static/images/imagenes/imagen_rgb.jpg\"\n",
    "\n",
    "image_bgr = cv2.imread(url_bgr)\n",
    "image_rgb = cv2.imread(url_rgb)"
   ]
  },
  {
   "cell_type": "code",
   "execution_count": 8,
   "metadata": {
    "tags": []
   },
   "outputs": [],
   "source": [
    "masks = generator.generate(image_rgb)"
   ]
  },
  {
   "cell_type": "code",
   "execution_count": 9,
   "metadata": {
    "tags": []
   },
   "outputs": [],
   "source": [
    "import supervision as sv\n",
    "\n",
    "mask_annotator = sv.MaskAnnotator()\n",
    "detections = sv.Detections.from_sam(masks)\n",
    "annotated_image = mask_annotator.annotate(image_bgr, detections)"
   ]
  },
  {
   "cell_type": "code",
   "execution_count": 10,
   "metadata": {
    "tags": []
   },
   "outputs": [],
   "source": [
    "mask_annotator = sv.MaskAnnotator()\n",
    "\n",
    "detections = sv.Detections.from_sam(sam_result=masks)\n",
    "\n",
    "annotated_image = mask_annotator.annotate(scene=image_bgr.copy(), detections=detections)"
   ]
  },
  {
   "cell_type": "code",
   "execution_count": 18,
   "metadata": {
    "tags": []
   },
   "outputs": [],
   "source": [
    "#Funciona\n",
    "#ruta_guardado = \"websam\\img-segmentada\\imagen_segmentada.png\"\n",
    "\n",
    "#Funciona en Desplegado\n",
    "ruta_guardado = \"static/images/img-segmentada/imagen_segmentada.png\"\n",
    "\n",
    "#Funciona en local\n",
    "#ruta_guardado = r\"..\\..\\static\\images\\img-segmentada\\imagen_segmentada.png\""
   ]
  },
  {
   "cell_type": "code",
   "execution_count": 19,
   "metadata": {
    "tags": []
   },
   "outputs": [
    {
     "data": {
      "text/plain": [
       "True"
      ]
     },
     "execution_count": 19,
     "metadata": {},
     "output_type": "execute_result"
    }
   ],
   "source": [
    "cv2.imwrite(ruta_guardado,annotated_image)"
   ]
  },
  {
   "cell_type": "code",
   "execution_count": 21,
   "metadata": {
    "tags": []
   },
   "outputs": [],
   "source": [
    "base = os.path.basename(\"img_metadata\")\n",
    "base = os.path.splitext(base)[0]\n",
    "#Local\n",
    "#save_base = os.path.join(r\"..\\..\\static\\csv\\sam_csv\", base)\n",
    "#Desplegado\n",
    "save_base = os.path.join(\"static/csv/sam_csv\", base)\n",
    "\n",
    "if output_mode == \"binary_mask\":\n",
    "    os.makedirs(save_base, exist_ok=True)\n",
    "    write_masks_to_folder(masks, save_base)"
   ]
  }
 ],
 "metadata": {
  "kernelspec": {
   "display_name": "PythonDjango",
   "language": "python",
   "name": "pythondjango"
  },
  "language_info": {
   "codemirror_mode": {
    "name": "ipython",
    "version": 3
   },
   "file_extension": ".py",
   "mimetype": "text/x-python",
   "name": "python",
   "nbconvert_exporter": "python",
   "pygments_lexer": "ipython3",
   "version": "3.10.5"
  }
 },
 "nbformat": 4,
 "nbformat_minor": 4
}
